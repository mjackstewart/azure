{
  "nbformat": 4,
  "nbformat_minor": 0,
  "metadata": {
    "colab": {
      "provenance": [],
      "include_colab_link": true
    },
    "kernelspec": {
      "name": "python3",
      "display_name": "Python 3"
    },
    "language_info": {
      "name": "python"
    }
  },
  "cells": [
    {
      "cell_type": "markdown",
      "metadata": {
        "id": "view-in-github",
        "colab_type": "text"
      },
      "source": [
        "<a href=\"https://colab.research.google.com/github/mjackstewart/azure/blob/main/pdf_chat.ipynb\" target=\"_parent\"><img src=\"https://colab.research.google.com/assets/colab-badge.svg\" alt=\"Open In Colab\"/></a>"
      ]
    },
    {
      "cell_type": "code",
      "execution_count": null,
      "metadata": {
        "id": "zCspd2zaQWeg"
      },
      "outputs": [],
      "source": [
        "!pip install langchain\n",
        "!pip install unstructured # The unstructured library provides open-source components for pre-processing text documents such as PDFs, HTML and Word Documents.\n",
        "!pip install openai\n",
        "!pip install pybind11 # pybind11 is a lightweight header-only library that exposes C++ types in Python\n",
        "!pip install chromadb # the AI-native open-source embedding database\n",
        "!pip install Cython # Cython is an optimising static compiler for both the Python programming language\n",
        "!pip3 install \"git+https://github.com/philferriere/cocoapi.git#egg=pycocotools&subdirectory=PythonAPI\" # COCO is a large image dataset designed for object detection, segmentation, person keypoints detection, stuff segmentation, and caption generation\n",
        "!pip install unstructured[local-inference]\n",
        "!CC=clang CXX=clang++ ARCHFLAGS=\"-arch x86_64\" pip install 'git+https://github.com/facebookresearch/detectron2.git' # Detectron2 is Facebook AI Research's next generation library that provides state-of-the-art detection and segmentation algorithms.\n",
        "!pip install layoutparser[layoutmodels,tesseract] # A Unified Toolkit for Deep Learning Based Document Image Analysis\n",
        "!pip install pytesseract # Python-tesseract is an optical character recognition (OCR) tool for python.\n",
        "!pip install Pillow==9.0.0 # The Python Imaging Library adds image processing capabilities to your Python interpreter. Need this version, otherwise errors occur."
      ]
    },
    {
      "cell_type": "code",
      "source": [
        "import os\n",
        "os.environ['OPENAI_API_KEY'] = 'your_api_key_here'"
      ],
      "metadata": {
        "id": "qzou8IvvQpwr"
      },
      "execution_count": null,
      "outputs": []
    },
    {
      "cell_type": "code",
      "source": [
        "from langchain.document_loaders import UnstructuredPDFLoader\n",
        "from langchain.indexes import VectorstoreIndexCreator"
      ],
      "metadata": {
        "id": "kzFhWwEeQvV3"
      },
      "execution_count": null,
      "outputs": []
    },
    {
      "cell_type": "code",
      "source": [
        "from detectron2.config import get_cfg\n",
        "cfg = get_cfg()\n",
        "cfg.MODEL.DEVICE = 'cpu' #GPU is recommended"
      ],
      "metadata": {
        "id": "SJsxayI6QwE9"
      },
      "execution_count": null,
      "outputs": []
    },
    {
      "cell_type": "code",
      "source": [
        "!wget https://s21.q4cdn.com/399680738/files/doc_financials/2022/q4/Meta-12.31.2022-Exhibit-99.1-FINAL.pdf #meta earnings; replace with any pdf"
      ],
      "metadata": {
        "id": "VyX-UbKLQxoS"
      },
      "execution_count": null,
      "outputs": []
    },
    {
      "cell_type": "code",
      "source": [
        "!mkdir docs\n",
        "!mv Meta-12.31.2022-Exhibit-99.1-FINAL.pdf docs"
      ],
      "metadata": {
        "id": "Se8-yf-7R0Pl"
      },
      "execution_count": null,
      "outputs": []
    },
    {
      "cell_type": "code",
      "source": [
        "text_folder = 'docs'\n",
        "loaders = [UnstructuredPDFLoader(os.path.join(text_folder, fn)) for fn in os.listdir(text_folder)]"
      ],
      "metadata": {
        "id": "YzOpYMfFSQ7x"
      },
      "execution_count": null,
      "outputs": []
    },
    {
      "cell_type": "code",
      "source": [
        "!apt-get install poppler-utils # error occurs without this, pdf rendering library"
      ],
      "metadata": {
        "id": "-jlnhpUHTc7T"
      },
      "execution_count": null,
      "outputs": []
    },
    {
      "cell_type": "code",
      "source": [
        "index = VectorstoreIndexCreator().from_loaders(loaders)"
      ],
      "metadata": {
        "id": "rRKCE8ucSW4H"
      },
      "execution_count": null,
      "outputs": []
    },
    {
      "cell_type": "code",
      "source": [
        "query = \"How much revenue did Meta make in 2022?\"\n",
        "index.query(query)"
      ],
      "metadata": {
        "colab": {
          "base_uri": "https://localhost:8080/",
          "height": 35
        },
        "id": "_vpx0nTqUvBv",
        "outputId": "0a38b827-3527-4875-c8a1-9463190603b6"
      },
      "execution_count": null,
      "outputs": [
        {
          "output_type": "execute_result",
          "data": {
            "text/plain": [
              "' Meta made $104.2 billion in revenue in 2022.'"
            ],
            "application/vnd.google.colaboratory.intrinsic+json": {
              "type": "string"
            }
          },
          "metadata": {},
          "execution_count": 11
        }
      ]
    },
    {
      "cell_type": "code",
      "source": [
        "query = \"What are meta's biggest risks?\"\n",
        "index.query(query)"
      ],
      "metadata": {
        "id": "2H1cV4VowRoX"
      },
      "execution_count": null,
      "outputs": []
    }
  ]
}